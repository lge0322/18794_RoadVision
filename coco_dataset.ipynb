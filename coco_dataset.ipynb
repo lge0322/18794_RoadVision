{
 "cells": [
  {
   "cell_type": "markdown",
   "metadata": {},
   "source": [
    "# COCO Stop Sign Dataset\n",
    "Steps to download COCO train, test, val dataset using fifty one library\n",
    "https://cocodataset.org/#download"
   ]
  },
  {
   "cell_type": "code",
   "execution_count": 42,
   "metadata": {},
   "outputs": [
    {
     "name": "stdout",
     "output_type": "stream",
     "text": [
      "made\n"
     ]
    }
   ],
   "source": [
    "import os\n",
    "if not os.path.exists(\"dataset\"): \n",
    "    os.mkdir(\"dataset\")"
   ]
  },
  {
   "cell_type": "code",
   "execution_count": 36,
   "metadata": {},
   "outputs": [],
   "source": [
    "import fiftyone.zoo as foz\n",
    "import fiftyone as fo"
   ]
  },
  {
   "cell_type": "code",
   "execution_count": 38,
   "metadata": {},
   "outputs": [],
   "source": [
    "fo.config.dataset_zoo_dir = \"/dataset\""
   ]
  },
  {
   "cell_type": "code",
   "execution_count": null,
   "metadata": {},
   "outputs": [],
   "source": [
    "# Downloading coco dataset\n",
    "# Referenced from https://medium.com/voxel51/the-coco-dataset-best-practices-for-downloading-visualization-and-evaluation-68a3d7e97fb7\n",
    "\n",
    "train_dataset = foz.load_zoo_dataset(\n",
    "    \"coco-2017\",\n",
    "    split=\"train\",\n",
    "    label_types=[\"segmentations\"],\n",
    "    classes=[\"stop sign\"],\n",
    "    max_samples=400,\n",
    ")\n",
    "\n",
    "test_dataset = foz.load_zoo_dataset(\n",
    "    \"coco-2017\",\n",
    "    split=\"test\",\n",
    "    label_types=[\"segmentations\"],\n",
    "    classes=[\"stop sign\"],\n",
    "    max_samples=50,\n",
    ")\n",
    "\n",
    "\n",
    "val_dataset = foz.load_zoo_dataset(\n",
    "    \"coco-2017\",\n",
    "    split=\"validation\",\n",
    "    label_types=[\"segmentations\"],\n",
    "    classes=[\"stop sign\"],\n",
    "    max_samples=50,\n",
    ")\n"
   ]
  },
  {
   "cell_type": "code",
   "execution_count": 4,
   "metadata": {},
   "outputs": [],
   "source": [
    "from collections import defaultdict\n",
    "import json\n",
    "import numpy as np\n",
    "\n",
    "# Referenced from https://machinelearningspace.com/coco-dataset-a-step-by-step-guide-to-loading-and-visualizing/\n",
    "class COCOParser:\n",
    "    def __init__(self, anns_file, imgs_dir):\n",
    "        with open(anns_file, 'r') as f:\n",
    "            coco = json.load(f)\n",
    "            \n",
    "        self.annIm_dict = defaultdict(list)        \n",
    "        self.cat_dict = {} \n",
    "        self.annId_dict = {}\n",
    "        self.im_dict = {}\n",
    "        self.licenses_dict = {}\n",
    "        for ann in coco['annotations']:           \n",
    "            self.annIm_dict[ann['image_id']].append(ann) \n",
    "            self.annId_dict[ann['id']]=ann\n",
    "        for img in coco['images']:\n",
    "            self.im_dict[img['id']] = img\n",
    "        for cat in coco['categories']:\n",
    "            self.cat_dict[cat['id']] = cat\n",
    "        for license in coco['licenses']:\n",
    "            self.licenses_dict[license['id']] = license\n",
    "    def get_imgIds(self):\n",
    "        return list(self.im_dict.keys())\n",
    "    def get_annIds(self, im_ids):\n",
    "        im_ids=im_ids if isinstance(im_ids, list) else [im_ids]\n",
    "        return [ann['id'] for im_id in im_ids for ann in self.annIm_dict[im_id]]\n",
    "    def load_anns(self, ann_ids):\n",
    "        im_ids=ann_ids if isinstance(ann_ids, list) else [ann_ids]\n",
    "        return [self.annId_dict[ann_id] for ann_id in ann_ids]        \n",
    "    def load_cats(self, class_ids):\n",
    "        class_ids=class_ids if isinstance(class_ids, list) else [class_ids]\n",
    "        return [self.cat_dict[class_id] for class_id in class_ids]\n",
    "    def get_imgLicenses(self,im_ids):\n",
    "        im_ids=im_ids if isinstance(im_ids, list) else [im_ids]\n",
    "        lic_ids = [self.im_dict[im_id][\"license\"] for im_id in im_ids]\n",
    "        return [self.licenses_dict[lic_id] for lic_id in lic_ids]"
   ]
  },
  {
   "cell_type": "code",
   "execution_count": 6,
   "metadata": {},
   "outputs": [],
   "source": [
    "anns_file = \"/dataset/coco-2017/validation/labels.json\"\n",
    "imgs_dir = \"/dataset//coco-2017/validation/data\"\n",
    "parser = COCOParser(anns_file, imgs_dir)"
   ]
  },
  {
   "cell_type": "code",
   "execution_count": 30,
   "metadata": {},
   "outputs": [],
   "source": [
    "import matplotlib.pyplot as plt\n",
    "from PIL import Image, ImageDraw\n",
    "import numpy as np\n",
    "import os\n",
    "\n",
    "stop_sign_category = 13\n",
    "\n",
    "# Referenced from ChatGPT\n",
    "\n",
    "def visualize_with_mask(parser, img_id, imgs_dir):\n",
    "    # Load image metadata\n",
    "    img_info = parser.im_dict[img_id]\n",
    "    img_path = os.path.join(imgs_dir, img_info['file_name'])\n",
    "    \n",
    "    # Open the image\n",
    "    img = Image.open(img_path).convert(\"RGB\")\n",
    "    \n",
    "    # Prepare to draw segmentation masks\n",
    "    draw = ImageDraw.Draw(img, \"RGBA\")\n",
    "    \n",
    "    # Load annotations for the image\n",
    "    ann_ids = parser.get_annIds([img_id])\n",
    "    anns = parser.load_anns(ann_ids)\n",
    "    \n",
    "    for ann in anns:\n",
    "        if ann['category_id'] == stop_sign_category and 'segmentation' in ann:\n",
    "            for seg in ann['segmentation']:\n",
    "                # Convert segmentation points into pairs\n",
    "                polygon = [(seg[i], seg[i+1]) for i in range(0, len(seg), 2)]\n",
    "                \n",
    "                # Draw mask with transparency (e.g., red mask)\n",
    "                draw.polygon(polygon, fill=(0, 255, 0, 100))  # Red with 40% opacity\n",
    "                \n",
    "    # Display the result\n",
    "    plt.figure(figsize=(10, 10))\n",
    "    plt.imshow(img)\n",
    "    plt.axis(\"off\")\n",
    "    plt.show()"
   ]
  },
  {
   "cell_type": "code",
   "execution_count": null,
   "metadata": {},
   "outputs": [],
   "source": [
    "img_ids = parser.get_imgIds()\n",
    "visualize_with_mask(parser, img_id=img_ids[0], imgs_dir=imgs_dir)"
   ]
  }
 ],
 "metadata": {
  "kernelspec": {
   "display_name": "traffic",
   "language": "python",
   "name": "python3"
  },
  "language_info": {
   "codemirror_mode": {
    "name": "ipython",
    "version": 3
   },
   "file_extension": ".py",
   "mimetype": "text/x-python",
   "name": "python",
   "nbconvert_exporter": "python",
   "pygments_lexer": "ipython3",
   "version": "3.11.10"
  }
 },
 "nbformat": 4,
 "nbformat_minor": 2
}
